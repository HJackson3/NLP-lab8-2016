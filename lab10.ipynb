{
 "cells": [
  {
   "cell_type": "code",
   "execution_count": 2,
   "metadata": {
    "collapsed": false
   },
   "outputs": [],
   "source": [
    "import json,os, nltk,re\n",
    "import numpy as np\n",
    "from gensim.models import word2vec\n",
    "from sklearn.linear_model import Perceptron\n",
    "from sklearn.svm import SVC\n",
    "from sklearn.feature_extraction import DictVectorizer\n",
    "from sklearn.metrics import classification_report, confusion_matrix\n",
    "from nltk.stem import WordNetLemmatizer\n",
    "from nltk.stem.snowball import SnowballStemmer\n",
    "from scipy.spatial import distance\n",
    "from sklearn.mixture import GMM"
   ]
  },
  {
   "cell_type": "markdown",
   "metadata": {},
   "source": [
    "---\n",
    "# Lab 8-10\n",
    "### Looking into methods of textual entailment using the SNLI corpus\n",
    "---"
   ]
  },
  {
   "cell_type": "markdown",
   "metadata": {},
   "source": [
    "### Ideas\n",
    "- Commonality of nouns between sentences\n",
    "- Commonality of noun-verb phrases between sentences\n",
    "- Edit-distance basis\n",
    "- Lemmatisation\n",
    "\n",
    "#### Methods\n",
    "- Start with some simple methods (perceptron/NB)\n",
    "- Maybe the sklearn text feature-extraction methods\n",
    "- Logistic regression\n",
    "- Could abuse the WER system for machine translation tasks to make a WE of s1-s2\n",
    "\n",
    "### New ideas\n",
    "- Lemmatisation or stemming\n",
    "- Cross-bigrams\n",
    "- word2vec difference between statements\n",
    "- Use of the POS for clever stripping\n",
    "- Use of POS for other reasons (?)"
   ]
  },
  {
   "cell_type": "markdown",
   "metadata": {},
   "source": [
    "#### Import the data from the files in the snli data set"
   ]
  },
  {
   "cell_type": "code",
   "execution_count": 22,
   "metadata": {
    "collapsed": false
   },
   "outputs": [],
   "source": [
    "def import_file(s):\n",
    "    x = []\n",
    "    f_name = os.path.expanduser('~')+'/export/snli_1.0/snli_1.0_%s.jsonl' % s\n",
    "    with open(f_name) as f:\n",
    "        while f.readline()!='':\n",
    "            x.append(json.loads(f.readline()))\n",
    "    return np.array(x)\n",
    "\n",
    "def build_vector(d,v, model=None, stage='train', stem=None):\n",
    "    data = []\n",
    "    for eg in d:\n",
    "        tmp_in = extract_sent(eg, stem, model)\n",
    "        data.append(tmp_in)\n",
    "        \n",
    "    if stage=='train':\n",
    "        return v.fit_transform(data)\n",
    "    else:\n",
    "        return v.transform(data)\n",
    "\n",
    "def extract_sent(eg, stem, model):\n",
    "    sen1 = [x for x in re.findall('[\\w-]+',eg['sentence1'].lower())]# if x not in stops]\n",
    "    pos1 = POS_tags(eg, 'sentence1_parse')\n",
    "    sen2 = [x for x in re.findall('[\\w-]+',eg['sentence2'].lower())]# if x not in stops]\n",
    "    pos2 = POS_tags(eg, 'sentence2_parse')\n",
    "    tmp_in = {}\n",
    "    if stem == 'stem':\n",
    "        sen1 = stem_sent(sen1)\n",
    "        sen2 = stem_sent(sen2)\n",
    "    if stem == 'lemmatise':\n",
    "        sen1 = lemmatise_sent(sen1, pos1)\n",
    "        sen2 = lemmatise_sent(sen2, pos2)\n",
    "    # Cross-unigrams\n",
    "    for w1 in sen1:\n",
    "        for w2 in sen2:\n",
    "            try:\n",
    "#                 if pos1[w1]==pos2[w2]:\n",
    "#                     if 'NN' in pos1[w1] or 'VB' in pos1[w1]:\n",
    "                val = 1.\n",
    "                tmp_in[w1+'-'+w2] = val\n",
    "            except KeyError:\n",
    "                pass\n",
    "#     Cross-bigrams\n",
    "# #     sen1.insert(0,'<start>')\n",
    "# #     sen2.insert(0,'<start>')\n",
    "#     sen1.append('<end>')\n",
    "#     sen2.append('<end>')\n",
    "#     for idx,w1 in enumerate(sen1):\n",
    "#         for idx,w2 in enumerate(sen2):\n",
    "#             try:\n",
    "# #                 if pos1[w1]==pos2[w2]:\n",
    "# #                     if 'NN' in pos1[w1] or 'VB' in pos1[w1]:\n",
    "#                     val = 1.\n",
    "#                     bg1 = sen1[idx]+'_'+sen1[idx+1]\n",
    "#                     bg2 = sen2[idx]+'_'+sen2[idx+1]\n",
    "#                     tmp_in[bg1+'-'+bg2] = val\n",
    "#             except:\n",
    "                pass\n",
    "#     Cosine distance\n",
    "#     tmp_in['cosine'] = calculate_cos(eg,model)\n",
    "    return tmp_in\n",
    "    \n",
    "def build_w2v_vector(d, model, stem=None):\n",
    "    data = []\n",
    "    for eg in d:\n",
    "        tmp_in = extract_word2vec(eg, model)\n",
    "        data.append(tmp_in)\n",
    "    return np.vstack(data)\n",
    "    \n",
    "def extract_word2vec(eg,model):\n",
    "    model_length = 300\n",
    "    sen1 = [x for x in re.findall('[\\w-]+',eg['sentence1'].lower())]# if x not in stops]\n",
    "    pos1 = POS_tags(eg, 'sentence1_parse')\n",
    "    sen2 = [x for x in re.findall('[\\w-]+',eg['sentence2'].lower())]# if x not in stops]\n",
    "    pos2 = POS_tags(eg, 'sentence2_parse')\n",
    "    w2v1 = np.ones((len(sen1),300))\n",
    "    for idx,x in enumerate(sen1):\n",
    "        if x in model:\n",
    "            w2v1[idx,:] = model[x]\n",
    "    w2v2 = np.ones((len(sen2),300))\n",
    "    for idx,x in enumerate(sen2):\n",
    "        if x in model:\n",
    "            w2v2[idx,:] = model[x]\n",
    "#     Unneeded now\n",
    "#     if w2v1.shape[1] != 300:\n",
    "#         w2v1 = np.zeros(300)\n",
    "#     if w2v2.shape[1] != 300:\n",
    "#         w2v2 = np.zeros((2,300))\n",
    "    if w2v1.shape[0] < 2:\n",
    "        w2v1 = np.append(w2v1,np.ones((1,300)),axis=0)\n",
    "    if w2v2.shape[0] < 2:\n",
    "        w2v2 = np.append(w2v2,np.ones((1,300)),axis=0)\n",
    "    w2vGMM1 = GMM(n_components=1, n_iter=10)\n",
    "    w2vGMM1.fit(w2v1)\n",
    "    \n",
    "    return w2vGMM1.predict_proba(w2v2)\n",
    "\n",
    "def calculate_cos(eg,model):\n",
    "    sen_vec1 = np.zeros((300))\n",
    "    sen_vec2 = np.zeros((300))\n",
    "    sen1 = [x for x in re.findall('[\\w-]+',eg['sentence1'].lower())]# if x not in stops]\n",
    "    pos1 = POS_tags(eg, 'sentence1_parse')\n",
    "    sen2 = [x for x in re.findall('[\\w-]+',eg['sentence2'].lower())]# if x not in stops]\n",
    "    pos2 = POS_tags(eg, 'sentence2_parse')\n",
    "    for x in sen1:\n",
    "        if x in model:\n",
    "            sen_vec1 += model[x]\n",
    "    for x in sen2:\n",
    "        if x in model:\n",
    "            sen_vec2 += model[x]\n",
    "    cos_d = distance.cosine(sen_vec1,sen_vec2)\n",
    "    if np.isnan(cos_d):\n",
    "        return 0.\n",
    "    else:\n",
    "        return cos_d\n",
    "            \n",
    "def make_lbls(d):\n",
    "    return np.array([eg['gold_label'] for eg in d])\n",
    "\n",
    "def lemmatise_sent(sent, pos):\n",
    "    s = []\n",
    "    for x in sent:\n",
    "        try:\n",
    "            s.append(lemmatizer.lemmatize(x, pos[x]))\n",
    "        except:\n",
    "            s.append(lemmatizer.lemmatize(x))\n",
    "    return s\n",
    "\n",
    "def stem_sent(sent):\n",
    "    s = [stemmer.stem(x) for x in sent]\n",
    "    return s\n",
    "\n",
    "def POS_tags(eg, parse):\n",
    "    prs = re.compile('\\(([\\w$]*) ([\\w-]*)\\)')\n",
    "    tags = re.findall(prs,eg[parse])\n",
    "    return dict((y.lower(),x) for (x,y) in tags)\n",
    "\n",
    "def rename_pos(tag):\n",
    "    return tag[0].lower()"
   ]
  },
  {
   "cell_type": "code",
   "execution_count": 4,
   "metadata": {
    "collapsed": false
   },
   "outputs": [],
   "source": [
    "# sim = {'VB':list(),'NN':list()}\n",
    "# model.similarity('person','person')"
   ]
  },
  {
   "cell_type": "code",
   "execution_count": 5,
   "metadata": {
    "collapsed": false,
    "scrolled": false
   },
   "outputs": [
    {
     "ename": "NameError",
     "evalue": "name 'train_set' is not defined",
     "output_type": "error",
     "traceback": [
      "\u001b[0;31m---------------------------------------------------------------------------\u001b[0m",
      "\u001b[0;31mNameError\u001b[0m                                 Traceback (most recent call last)",
      "\u001b[0;32m<ipython-input-5-4afc9f15893b>\u001b[0m in \u001b[0;36m<module>\u001b[0;34m()\u001b[0m\n\u001b[0;32m----> 1\u001b[0;31m \u001b[0;32mprint\u001b[0m \u001b[0mtrain_set\u001b[0m\u001b[0;34m[\u001b[0m\u001b[0;36m4\u001b[0m\u001b[0;34m]\u001b[0m\u001b[0;34m[\u001b[0m\u001b[0;34m'sentence1'\u001b[0m\u001b[0;34m]\u001b[0m\u001b[0;34m\u001b[0m\u001b[0m\n\u001b[0m\u001b[1;32m      2\u001b[0m \u001b[0;32mprint\u001b[0m \u001b[0mtrain_set\u001b[0m\u001b[0;34m[\u001b[0m\u001b[0;36m4\u001b[0m\u001b[0;34m]\u001b[0m\u001b[0;34m[\u001b[0m\u001b[0;34m'sentence2'\u001b[0m\u001b[0;34m]\u001b[0m\u001b[0;34m\u001b[0m\u001b[0m\n\u001b[1;32m      3\u001b[0m \u001b[0;32mprint\u001b[0m \u001b[0mtrain_set\u001b[0m\u001b[0;34m[\u001b[0m\u001b[0;36m4\u001b[0m\u001b[0;34m]\u001b[0m\u001b[0;34m[\u001b[0m\u001b[0;34m'gold_label'\u001b[0m\u001b[0;34m]\u001b[0m\u001b[0;34m\u001b[0m\u001b[0m\n\u001b[1;32m      4\u001b[0m \u001b[0;34m\u001b[0m\u001b[0m\n\u001b[1;32m      5\u001b[0m \u001b[0;32mprint\u001b[0m\u001b[0;34m\u001b[0m\u001b[0m\n",
      "\u001b[0;31mNameError\u001b[0m: name 'train_set' is not defined"
     ]
    }
   ],
   "source": [
    "print train_set[4]['sentence1']\n",
    "print train_set[4]['sentence2']\n",
    "print train_set[4]['gold_label']\n",
    "\n",
    "print\n",
    "print POS_tags(train_set[4],'sentence1_parse')\n",
    "print POS_tags(train_set[4],'sentence2_parse')\n",
    "print\n",
    "print extract_sent(train_set[4],None,model)\n",
    "# for i in range(len(train_set)):\n",
    "#     x = calculate_cos(train_set[i], model)\n",
    "#     if np.isnan(x):\n",
    "#         print x, i, train_set[i]['sentence1'], train_set[i]['sentence2']"
   ]
  },
  {
   "cell_type": "code",
   "execution_count": 26,
   "metadata": {
    "collapsed": false
   },
   "outputs": [],
   "source": [
    "train_set = import_file('train')\n",
    "dev_set = import_file('test') # 'test' for evaluation, 'dev' for development"
   ]
  },
  {
   "cell_type": "code",
   "execution_count": 6,
   "metadata": {
    "collapsed": false
   },
   "outputs": [],
   "source": [
    "lemmatizer = WordNetLemmatizer()\n",
    "stemmer = SnowballStemmer(\"english\")"
   ]
  },
  {
   "cell_type": "markdown",
   "metadata": {},
   "source": [
    "### Build a sparse vector representation of the cross unigrams\n",
    "\n",
    "- Make the sparse vector the same way as lab 2.\n",
    "- Then add the intersection of tokens between sen1 and sen2 as opposed to just the counts."
   ]
  },
  {
   "cell_type": "markdown",
   "metadata": {},
   "source": [
    "Look into scipy.sparse : may need it for a dataset of this size.\n",
    "That or we"
   ]
  },
  {
   "cell_type": "code",
   "execution_count": 9,
   "metadata": {
    "collapsed": false
   },
   "outputs": [],
   "source": [
    "model = word2vec.Word2Vec.load_word2vec_format('/Users/harry/export/GoogleNews-vectors-negative300.bin', binary=True)"
   ]
  },
  {
   "cell_type": "code",
   "execution_count": 27,
   "metadata": {
    "collapsed": false
   },
   "outputs": [
    {
     "name": "stdout",
     "output_type": "stream",
     "text": [
      "train vectors built\n",
      "test vectors built\n",
      "labels built\n",
      "Vector shape:  (275076, 2739148)\n"
     ]
    }
   ],
   "source": [
    "v=DictVectorizer()\n",
    "\n",
    "X = build_vector(train_set, v, model=model)\n",
    "# X = build_w2v_vector(train_set,model)\n",
    "print 'train vectors built'\n",
    "dev_X = build_vector(dev_set, v, stage='test', model=model)\n",
    "# dev_X = build_w2v_vector(dev_set,model)\n",
    "print 'test vectors built'\n",
    "X_lbls = make_lbls(train_set)\n",
    "dev_lbls = make_lbls(dev_set)\n",
    "print 'labels built'\n",
    "print 'Vector shape: ', X.shape"
   ]
  },
  {
   "cell_type": "code",
   "execution_count": 28,
   "metadata": {
    "collapsed": false
   },
   "outputs": [],
   "source": [
    "clf = Perceptron(n_jobs=-1)\n",
    "traPer = clf.fit(X, X_lbls)"
   ]
  },
  {
   "cell_type": "code",
   "execution_count": 29,
   "metadata": {
    "collapsed": false
   },
   "outputs": [
    {
     "name": "stdout",
     "output_type": "stream",
     "text": [
      "Accuracy: 0.6636\n",
      "____________________________________________________\n",
      "\n",
      "Precision, recall and F-score for baseline\n",
      "\n",
      "             precision    recall  f1-score   support\n",
      "\n",
      "          -       0.00      0.00      0.00        15\n",
      "contradiction       0.75      0.67      0.71      1782\n",
      " entailment       0.63      0.69      0.66      1483\n",
      "    neutral       0.65      0.63      0.64      1720\n",
      "\n",
      "avg / total       0.68      0.66      0.67      5000\n",
      "\n",
      "____________________________________________________\n",
      "\n",
      "Confusion Matrix\n",
      "\n",
      "[[   0    4    3    8]\n",
      " [  18 1202  245  317]\n",
      " [  28  166 1028  261]\n",
      " [  28  239  365 1088]]\n"
     ]
    }
   ],
   "source": [
    "print 'Accuracy:', traPer.score(dev_X,dev_lbls)\n",
    "print '____________________________________________________'\n",
    "print ''\n",
    "print 'Precision, recall and F-score for baseline'\n",
    "print ''\n",
    "print classification_report(traPer.predict(dev_X),dev_lbls)\n",
    "print '____________________________________________________'\n",
    "print ''\n",
    "print 'Confusion Matrix'\n",
    "print ''\n",
    "print confusion_matrix(traPer.predict(dev_X),dev_lbls)"
   ]
  },
  {
   "cell_type": "code",
   "execution_count": 17,
   "metadata": {
    "collapsed": false
   },
   "outputs": [
    {
     "name": "stdout",
     "output_type": "stream",
     "text": [
      "________________________________\n",
      "-\n",
      "\n",
      "[[u'people-outside' u'6.0']\n",
      " [u'and-his' u'6.0']\n",
      " [u'uniform-in' u'5.0']\n",
      " [u'holding-wearing' u'5.0']\n",
      " [u'pants-woman' u'5.0']\n",
      " [u'painting-man' u'5.0']\n",
      " [u'sit-men' u'5.0']\n",
      " [u'girl-has' u'5.0']\n",
      " [u'stands-are' u'5.0']\n",
      " [u'horse-a' u'5.0']]\n",
      "________________________________\n",
      "contradictment\n",
      "\n",
      "[[u'cosine' u'56.9430113033']\n",
      " [u'room-outside' u'49.0']\n",
      " [u'girls-boys' u'47.0']\n",
      " [u'a_man-a_woman' u'47.0']\n",
      " [u'men-women' u'46.0']\n",
      " [u'sitting-standing' u'45.0']\n",
      " [u'outside-inside' u'45.0']\n",
      " [u'boys-girls' u'41.0']\n",
      " [u'young-old' u'41.0']\n",
      " [u'a-nothing' u'40.0']]\n",
      "________________________________\n",
      "entailment\n",
      "\n",
      "[[u'red-red' u'61.0']\n",
      " [u'park-park' u'59.0']\n",
      " [u'blue-blue' u'58.0']\n",
      " [u'black-black' u'51.0']\n",
      " [u'white-white' u'48.0']\n",
      " [u'yellow-yellow' u'45.0']\n",
      " [u'green-green' u'44.0']\n",
      " [u'bus-bus' u'43.0']\n",
      " [u'beach-beach' u'41.0']\n",
      " [u'pink-pink' u'40.0']]\n",
      "________________________________\n",
      "neutral\n",
      "\n",
      "[[u'a-joyously' u'45.0']\n",
      " [u'in_a-is_a' u'36.0']\n",
      " [u'a-professional' u'33.0']\n",
      " [u'sleeping-sleeping' u'33.0']\n",
      " [u'a-happily' u'33.0']\n",
      " [u'a-impress' u'31.0']\n",
      " [u'a-siblings' u'30.0']\n",
      " [u'sand-beach' u'30.0']\n",
      " [u'a_man-a_sad' u'29.0']\n",
      " [u'child-boy' u'29.0']]\n"
     ]
    }
   ],
   "source": [
    "mst_sig_feats = [np.argsort(clf.coef_)[x,:-11:-1] for x in range(clf.coef_.shape[0])]\n",
    "for idx,x in enumerate(mst_sig_feats):\n",
    "    print '________________________________'\n",
    "    print ['-','contradictment','entailment','neutral'][idx]\n",
    "    print ''\n",
    "    print np.vstack((v.feature_names_[ft],clf.coef_[idx,ft]) for ft in x)"
   ]
  },
  {
   "cell_type": "code",
   "execution_count": 244,
   "metadata": {
    "collapsed": false
   },
   "outputs": [
    {
     "name": "stdout",
     "output_type": "stream",
     "text": [
      "91788\n",
      "91588\n",
      "91303\n",
      "397\n"
     ]
    }
   ],
   "source": [
    "print np.sum(X_lbls=='contradiction')\n",
    "print np.sum(X_lbls=='neutral')\n",
    "print np.sum(X_lbls=='entailment')\n",
    "print np.sum(X_lbls=='-')\n",
    "recorded_accs = []\n",
    "recorded_lbls = []"
   ]
  },
  {
   "cell_type": "code",
   "execution_count": 48,
   "metadata": {
    "collapsed": false
   },
   "outputs": [
    {
     "data": {
      "image/png": "[encoded data removed]",
      "text/plain": [
       "<matplotlib.figure.Figure at 0x2debe7c50>"
      ]
     },
     "metadata": {},
     "output_type": "display_data"
    }
   ],
   "source": [
    "import matplotlib.pyplot as plt\n",
    "acc_ls = []\n",
    "task = 'Cross-unigrams'\n",
    "len_train_set = len(train_set)\n",
    "for i in range(1,11):\n",
    "    clf = Perceptron(n_jobs=-1)\n",
    "    traPer = clf.fit(X[:int(len_train_set * (i*0.1))], X_lbls[:int(len_train_set * (i*0.1))])\n",
    "    acc_ls.append(traPer.score(dev_X,dev_lbls))\n",
    "%matplotlib inline\n",
    "plt.plot(acc_ls)\n",
    "\n",
    "recorded_accs.append(acc_ls)\n",
    "recorded_lbls.append(task)"
   ]
  },
  {
   "cell_type": "code",
   "execution_count": 42,
   "metadata": {
    "collapsed": false
   },
   "outputs": [
    {
     "data": {
      "text/plain": [
       "1.0000000000000002"
      ]
     },
     "execution_count": 42,
     "metadata": {},
     "output_type": "execute_result"
    }
   ],
   "source": [
    "model.similarity('red','red')"
   ]
  },
  {
   "cell_type": "code",
   "execution_count": 51,
   "metadata": {
    "collapsed": false
   },
   "outputs": [
    {
     "data": {
      "text/plain": [
       "<matplotlib.legend.Legend at 0x2e63363d0>"
      ]
     },
     "execution_count": 51,
     "metadata": {},
     "output_type": "execute_result"
    },
    {
     "data": {
      "image/png": "[encoded data removed]",
      "text/plain": [
       "<matplotlib.figure.Figure at 0x2f2bdb390>"
      ]
     },
     "metadata": {},
     "output_type": "display_data"
    }
   ],
   "source": [
    "plt.plot(range(10,101,10),np.array(recorded_accs).T)\n",
    "plt.xlabel('Percentage of Training Data')\n",
    "plt.ylabel('Accuracy')\n",
    "plt.legend(recorded_lbls, bbox_to_anchor=(1.05, 0.4), loc=2, borderaxespad=0.)"
   ]
  }
 ],
 "metadata": {
  "kernelspec": {
   "display_name": "Python 2",
   "language": "python",
   "name": "python2"
  },
  "language_info": {
   "codemirror_mode": {
    "name": "ipython",
    "version": 2
   },
   "file_extension": ".py",
   "mimetype": "text/x-python",
   "name": "python",
   "nbconvert_exporter": "python",
   "pygments_lexer": "ipython2",
   "version": "2.7.11"
  }
 },
 "nbformat": 4,
 "nbformat_minor": 0
}
